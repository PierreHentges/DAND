{
 "cells": [
  {
   "cell_type": "markdown",
   "metadata": {},
   "source": [
    "## Analyzing the Stroop Effect\n",
    "*Perform the analysis in the space below. Remember to follow [the instructions](https://docs.google.com/document/d/1-OkpZLjG_kX9J6LIQ5IltsqMzVWjh36QpnP2RYpVdPU/pub?embedded=True) and review the [project rubric](https://review.udacity.com/#!/rubrics/71/view) before submitting. Once you've completed the analysis and write-up, download this file as a PDF or HTML file, upload that PDF/HTML into the workspace here (click on the orange Jupyter icon in the upper left then Upload), then use the Submit Project button at the bottom of this page. This will create a zip file containing both this .ipynb doc and the PDF/HTML doc that will be submitted for your project.*\n",
    "\n",
    "\n",
    "> (1) What is the independent variable? What is the dependent variable?"
   ]
  },
  {
   "cell_type": "markdown",
   "metadata": {},
   "source": [
    "**-- Answer --**\n",
    "\n",
    "***The independent variable is congruency - a categorical variable.***\n",
    "\n",
    "***The dependent variable is the time it takes a participant to answer (response time)***"
   ]
  },
  {
   "cell_type": "markdown",
   "metadata": {},
   "source": [
    "> (2) What is an appropriate set of hypotheses for this task? Specify your null and alternative hypotheses, and clearly define any notation used. Justify your choices."
   ]
  },
  {
   "cell_type": "markdown",
   "metadata": {},
   "source": [
    "**--Answer--**\n",
    "\n",
    "***Null hypothesis*** : there is no difference in the response time between congruent words and incongruent words. Since the response times are paired (i.e. congruent and incongruent for each participant), we can formulate the null mypothesis in terms of the mean difference (μ <sub>d</sub>) in the response time :\n",
    "\n",
    "$H_{0} : \\mu_{d} = 0 $\n",
    "\n",
    "with μ <sub>d</sub> as the mean difference between the response time for incongruent word and the response time for congruent words\n",
    "\n",
    "***Alternative hypothesis*** : there is a statistically significant difference in the response time between congruent words and incongruent words: \n",
    "\n",
    "$H_{1} : \\mu_{d} \\neq 0 $\n",
    "\n",
    "Since the response times for congruent and incongruent words are from the same participants, I would expect to do a  ***paired t test*** to determine whether or not to reject the null hypothesis"
   ]
  },
  {
   "cell_type": "markdown",
   "metadata": {},
   "source": [
    "> (3) Report some descriptive statistics regarding this dataset. Include at least one measure of central tendency and at least one measure of variability. The name of the data file is 'stroopdata.csv'."
   ]
  },
  {
   "cell_type": "code",
   "execution_count": 1,
   "metadata": {},
   "outputs": [],
   "source": [
    "# import libraries\n",
    "import pandas as pd\n",
    "import numpy as np\n",
    "from scipy import stats\n",
    "import matplotlib.pyplot as plt\n",
    "import seaborn as sns\n",
    "%matplotlib inline"
   ]
  },
  {
   "cell_type": "code",
   "execution_count": 2,
   "metadata": {},
   "outputs": [
    {
     "name": "stdout",
     "output_type": "stream",
     "text": [
      "<class 'pandas.core.frame.DataFrame'>\n",
      "RangeIndex: 24 entries, 0 to 23\n",
      "Data columns (total 2 columns):\n",
      "Congruent      24 non-null float64\n",
      "Incongruent    24 non-null float64\n",
      "dtypes: float64(2)\n",
      "memory usage: 464.0 bytes\n"
     ]
    }
   ],
   "source": [
    "df=pd.read_csv('stroopdata.csv')\n",
    "df.info()"
   ]
  },
  {
   "cell_type": "code",
   "execution_count": 3,
   "metadata": {},
   "outputs": [
    {
     "data": {
      "text/html": [
       "<div>\n",
       "<style scoped>\n",
       "    .dataframe tbody tr th:only-of-type {\n",
       "        vertical-align: middle;\n",
       "    }\n",
       "\n",
       "    .dataframe tbody tr th {\n",
       "        vertical-align: top;\n",
       "    }\n",
       "\n",
       "    .dataframe thead th {\n",
       "        text-align: right;\n",
       "    }\n",
       "</style>\n",
       "<table border=\"1\" class=\"dataframe\">\n",
       "  <thead>\n",
       "    <tr style=\"text-align: right;\">\n",
       "      <th></th>\n",
       "      <th>Congruent</th>\n",
       "      <th>Incongruent</th>\n",
       "      <th>difference</th>\n",
       "    </tr>\n",
       "  </thead>\n",
       "  <tbody>\n",
       "    <tr>\n",
       "      <th>0</th>\n",
       "      <td>12.079</td>\n",
       "      <td>19.278</td>\n",
       "      <td>7.199</td>\n",
       "    </tr>\n",
       "    <tr>\n",
       "      <th>1</th>\n",
       "      <td>16.791</td>\n",
       "      <td>18.741</td>\n",
       "      <td>1.950</td>\n",
       "    </tr>\n",
       "    <tr>\n",
       "      <th>2</th>\n",
       "      <td>9.564</td>\n",
       "      <td>21.214</td>\n",
       "      <td>11.650</td>\n",
       "    </tr>\n",
       "    <tr>\n",
       "      <th>3</th>\n",
       "      <td>8.630</td>\n",
       "      <td>15.687</td>\n",
       "      <td>7.057</td>\n",
       "    </tr>\n",
       "    <tr>\n",
       "      <th>4</th>\n",
       "      <td>14.669</td>\n",
       "      <td>22.803</td>\n",
       "      <td>8.134</td>\n",
       "    </tr>\n",
       "  </tbody>\n",
       "</table>\n",
       "</div>"
      ],
      "text/plain": [
       "   Congruent  Incongruent  difference\n",
       "0     12.079       19.278       7.199\n",
       "1     16.791       18.741       1.950\n",
       "2      9.564       21.214      11.650\n",
       "3      8.630       15.687       7.057\n",
       "4     14.669       22.803       8.134"
      ]
     },
     "execution_count": 3,
     "metadata": {},
     "output_type": "execute_result"
    }
   ],
   "source": [
    "#Let's calculate the difference in the response time between congruent and incongruent words:\n",
    "df['difference']=df.Incongruent - df.Congruent\n",
    "\n",
    "#check the first few rows\n",
    "df.head()"
   ]
  },
  {
   "cell_type": "code",
   "execution_count": 4,
   "metadata": {},
   "outputs": [
    {
     "data": {
      "text/html": [
       "<div>\n",
       "<style scoped>\n",
       "    .dataframe tbody tr th:only-of-type {\n",
       "        vertical-align: middle;\n",
       "    }\n",
       "\n",
       "    .dataframe tbody tr th {\n",
       "        vertical-align: top;\n",
       "    }\n",
       "\n",
       "    .dataframe thead th {\n",
       "        text-align: right;\n",
       "    }\n",
       "</style>\n",
       "<table border=\"1\" class=\"dataframe\">\n",
       "  <thead>\n",
       "    <tr style=\"text-align: right;\">\n",
       "      <th></th>\n",
       "      <th>Congruent</th>\n",
       "      <th>Incongruent</th>\n",
       "      <th>difference</th>\n",
       "    </tr>\n",
       "  </thead>\n",
       "  <tbody>\n",
       "    <tr>\n",
       "      <th>count</th>\n",
       "      <td>24.000000</td>\n",
       "      <td>24.000000</td>\n",
       "      <td>24.000000</td>\n",
       "    </tr>\n",
       "    <tr>\n",
       "      <th>mean</th>\n",
       "      <td>14.051125</td>\n",
       "      <td>22.015917</td>\n",
       "      <td>7.964792</td>\n",
       "    </tr>\n",
       "    <tr>\n",
       "      <th>std</th>\n",
       "      <td>3.559358</td>\n",
       "      <td>4.797057</td>\n",
       "      <td>4.864827</td>\n",
       "    </tr>\n",
       "    <tr>\n",
       "      <th>min</th>\n",
       "      <td>8.630000</td>\n",
       "      <td>15.687000</td>\n",
       "      <td>1.950000</td>\n",
       "    </tr>\n",
       "    <tr>\n",
       "      <th>25%</th>\n",
       "      <td>11.895250</td>\n",
       "      <td>18.716750</td>\n",
       "      <td>3.645500</td>\n",
       "    </tr>\n",
       "    <tr>\n",
       "      <th>50%</th>\n",
       "      <td>14.356500</td>\n",
       "      <td>21.017500</td>\n",
       "      <td>7.666500</td>\n",
       "    </tr>\n",
       "    <tr>\n",
       "      <th>75%</th>\n",
       "      <td>16.200750</td>\n",
       "      <td>24.051500</td>\n",
       "      <td>10.258500</td>\n",
       "    </tr>\n",
       "    <tr>\n",
       "      <th>max</th>\n",
       "      <td>22.328000</td>\n",
       "      <td>35.255000</td>\n",
       "      <td>21.919000</td>\n",
       "    </tr>\n",
       "  </tbody>\n",
       "</table>\n",
       "</div>"
      ],
      "text/plain": [
       "       Congruent  Incongruent  difference\n",
       "count  24.000000    24.000000   24.000000\n",
       "mean   14.051125    22.015917    7.964792\n",
       "std     3.559358     4.797057    4.864827\n",
       "min     8.630000    15.687000    1.950000\n",
       "25%    11.895250    18.716750    3.645500\n",
       "50%    14.356500    21.017500    7.666500\n",
       "75%    16.200750    24.051500   10.258500\n",
       "max    22.328000    35.255000   21.919000"
      ]
     },
     "execution_count": 4,
     "metadata": {},
     "output_type": "execute_result"
    }
   ],
   "source": [
    "#Calculate summary stats for the 3 columns\n",
    "df.describe()"
   ]
  },
  {
   "cell_type": "markdown",
   "metadata": {},
   "source": [
    "The maximum response time for incongruent words seems pretty large. In fact values over 30s could be outliers, let's have a look at these:"
   ]
  },
  {
   "cell_type": "code",
   "execution_count": 5,
   "metadata": {},
   "outputs": [
    {
     "data": {
      "text/html": [
       "<div>\n",
       "<style scoped>\n",
       "    .dataframe tbody tr th:only-of-type {\n",
       "        vertical-align: middle;\n",
       "    }\n",
       "\n",
       "    .dataframe tbody tr th {\n",
       "        vertical-align: top;\n",
       "    }\n",
       "\n",
       "    .dataframe thead th {\n",
       "        text-align: right;\n",
       "    }\n",
       "</style>\n",
       "<table border=\"1\" class=\"dataframe\">\n",
       "  <thead>\n",
       "    <tr style=\"text-align: right;\">\n",
       "      <th></th>\n",
       "      <th>Congruent</th>\n",
       "      <th>Incongruent</th>\n",
       "      <th>difference</th>\n",
       "    </tr>\n",
       "  </thead>\n",
       "  <tbody>\n",
       "    <tr>\n",
       "      <th>14</th>\n",
       "      <td>18.200</td>\n",
       "      <td>35.255</td>\n",
       "      <td>17.055</td>\n",
       "    </tr>\n",
       "    <tr>\n",
       "      <th>19</th>\n",
       "      <td>12.369</td>\n",
       "      <td>34.288</td>\n",
       "      <td>21.919</td>\n",
       "    </tr>\n",
       "  </tbody>\n",
       "</table>\n",
       "</div>"
      ],
      "text/plain": [
       "    Congruent  Incongruent  difference\n",
       "14     18.200       35.255      17.055\n",
       "19     12.369       34.288      21.919"
      ]
     },
     "execution_count": 5,
     "metadata": {},
     "output_type": "execute_result"
    }
   ],
   "source": [
    "df[df['Incongruent']>30]"
   ]
  },
  {
   "cell_type": "code",
   "execution_count": 6,
   "metadata": {},
   "outputs": [
    {
     "data": {
      "text/plain": [
       "17.586000000000002"
      ]
     },
     "execution_count": 6,
     "metadata": {},
     "output_type": "execute_result"
    }
   ],
   "source": [
    "#maximum value if calculated as median + 1.5 x IQR\n",
    "df.difference.describe()[5] + 1.5* (df.difference.describe()[6]-df.difference.describe()[4])"
   ]
  },
  {
   "cell_type": "markdown",
   "metadata": {},
   "source": [
    "**-- Answer --**\n",
    "\n",
    "The **mean** (congruent: 14.05s, incongruent: 22.02s) and the **median** (congruent: 14.36s, incongruent: 21.0175s) response times are relatively close. This is indicative of a symmetric distribution. \n",
    "\n",
    "However two response times for incongruent words over 30s could be outliers - they are certainly further from the median than 1.5x the interquartile range. This is also seen in the difference between the two response times.\n",
    "\n",
    "The **standard deviation** of the response times for congruent and incongruent words are 3.56s and 4.80s, respectively."
   ]
  },
  {
   "cell_type": "markdown",
   "metadata": {},
   "source": [
    "> (4) Provide one or two visualizations that show the distribution of the sample data. Write one or two sentences noting what you observe about the plot or plots."
   ]
  },
  {
   "cell_type": "code",
   "execution_count": 7,
   "metadata": {},
   "outputs": [
    {
     "data": {
      "image/png": "[encoded data removed]",
      "text/plain": [
       "<Figure size 432x288 with 4 Axes>"
      ]
     },
     "metadata": {},
     "output_type": "display_data"
    }
   ],
   "source": [
    "# Build the visualizations here\n",
    "df.hist();"
   ]
  },
  {
   "cell_type": "code",
   "execution_count": 8,
   "metadata": {},
   "outputs": [
    {
     "data": {
      "image/png": "[encoded data removed]",
      "text/plain": [
       "<Figure size 432x288 with 1 Axes>"
      ]
     },
     "metadata": {},
     "output_type": "display_data"
    }
   ],
   "source": [
    "sns.set(style=\"whitegrid\")\n",
    "sns.boxplot(data=df);"
   ]
  },
  {
   "cell_type": "markdown",
   "metadata": {},
   "source": [
    "**--Answer--**\n",
    "\n",
    "The histograms of the response times visualise that we are dealing with a relatively small data set, with the mode in the histograms only containing 6 data points. The histogram for the response time of incongruent words has 2 measurements above 30s that can be classified as outliers given their distance form the rest of the data. The same two measurements are apparent as outliers in the histogram for the difference in response times.\n",
    "\n",
    "The box plots of the response times shows that, although the median response times clearly differ, there is substantial overlap between the range of measurements (i.e. the whiskers in the box plot). This is often seen in samples between which there is no statistical difference. The range of the difference in response times is also surprisingly large.\n"
   ]
  },
  {
   "cell_type": "markdown",
   "metadata": {},
   "source": [
    "> (5)  Now, perform the statistical test and report your results. What is your confidence level or Type I error associated with your test? What is your conclusion regarding the hypotheses you set up? Did the results match up with your expectations? **Hint:**  Think about what is being measured on each individual, and what statistic best captures how an individual reacts in each environment."
   ]
  },
  {
   "cell_type": "markdown",
   "metadata": {},
   "source": [
    "**--Answer--**\n",
    "\n",
    "The appropriate test for this type of experiment, in which two conditions (response time with congruent vs incongruent words) are measured in the same individuals is a paired t-test. The scipy.stats library provides a function to carry out a paired t-test:"
   ]
  },
  {
   "cell_type": "code",
   "execution_count": 9,
   "metadata": {},
   "outputs": [
    {
     "data": {
      "text/plain": [
       "Ttest_relResult(statistic=-8.020706944109957, pvalue=4.1030005857111781e-08)"
      ]
     },
     "execution_count": 9,
     "metadata": {},
     "output_type": "execute_result"
    }
   ],
   "source": [
    "stats.ttest_rel(df['Congruent'], df['Incongruent'])"
   ]
  },
  {
   "cell_type": "markdown",
   "metadata": {},
   "source": [
    "The value of the t statistic is -8.02, while the p-value of 4.1 e-8 is far below the commonly used p-value of 0.05. On this basis, the result from the t-test could be interpreted to reject the null hypothesis. \n",
    "\n",
    "However, the paired t-test makes three assumptions: (from https://pythonfordatascience.org/paired-samples-t-test-python/)\n",
    "\n",
    "(1) that the dependent variable is continuous \n",
    "\n",
    "(2) that the dependent variable is normally distributed\n",
    "\n",
    "(3) that the dependent variable has no outliers.\n",
    "\n",
    "\n",
    "While (1) is the case here, I need to test for (2) and (3). One way to look at the distribution of a variable is the quantile-quantile plot:"
   ]
  },
  {
   "cell_type": "code",
   "execution_count": 10,
   "metadata": {},
   "outputs": [
    {
     "data": {
      "image/png": "[encoded data removed]",
      "text/plain": [
       "<Figure size 432x288 with 1 Axes>"
      ]
     },
     "metadata": {},
     "output_type": "display_data"
    }
   ],
   "source": [
    "stats.probplot(df['difference'], plot= plt)\n",
    "plt.title('Q-Q Plot Incongruency response time difference');"
   ]
  },
  {
   "cell_type": "markdown",
   "metadata": {},
   "source": [
    "The Q-Q plot implies that a normal distriution is questionable in this case, in particular the two longest response time differences may be outliers, as already previously discussed. In addition, the two shortest response time differences don't fit well with a normal distribution, and it is noticeable how the first 4 response time differences are surprisingly small.\n",
    "One approach to dealing with the issue of the distribution and outliers is to repeat the paired t-test on a trimmed dataset (see https://stats.stackexchange.com/a/21210), in which the bottom 2 and top 2 datapoints have been removed:"
   ]
  },
  {
   "cell_type": "code",
   "execution_count": 11,
   "metadata": {},
   "outputs": [
    {
     "data": {
      "image/png": "[encoded data removed]",
      "text/plain": [
       "<Figure size 432x288 with 1 Axes>"
      ]
     },
     "metadata": {},
     "output_type": "display_data"
    }
   ],
   "source": [
    "df_trimmed = df.sort_values(by=['difference'])[2:22] #sort then remove 2 first and two last data points\n",
    "stats.probplot(df_trimmed['difference'], plot= plt)\n",
    "plt.title('Q-Q Plot of trimmed data set');"
   ]
  },
  {
   "cell_type": "code",
   "execution_count": 12,
   "metadata": {},
   "outputs": [
    {
     "data": {
      "text/plain": [
       "Ttest_relResult(statistic=-10.435256611865332, pvalue=2.6381219601801997e-09)"
      ]
     },
     "execution_count": 12,
     "metadata": {},
     "output_type": "execute_result"
    }
   ],
   "source": [
    "#repeat the paired t-test on trimmed data set:\n",
    "stats.ttest_rel(df_trimmed['Congruent'], df_trimmed['Incongruent'])"
   ]
  },
  {
   "cell_type": "markdown",
   "metadata": {},
   "source": [
    "Despite the smaller data set, the result of the t-test is a smaller p-value. An alternative possibility is to carry out a Wilcoxon sign ranked test, which makes no assumptions about the distribution of the dependent variable:"
   ]
  },
  {
   "cell_type": "code",
   "execution_count": 13,
   "metadata": {},
   "outputs": [
    {
     "data": {
      "text/plain": [
       "WilcoxonResult(statistic=0.0, pvalue=1.821529714896801e-05)"
      ]
     },
     "execution_count": 13,
     "metadata": {},
     "output_type": "execute_result"
    }
   ],
   "source": [
    "stats.wilcoxon(df['difference']) #https://pythonfordatascience.org/wilcoxon-sign-ranked-test-python/"
   ]
  },
  {
   "cell_type": "markdown",
   "metadata": {},
   "source": [
    "Again, the p-value is well below the standard 0.05 used in hypothesis testing. On the whole these two results imply that the finding for the first t-test holds and that we can reject the null hypothesis with a high level of confidence. \n",
    "On other words, there is a statistically significant difference in the reponse time between congruent and incongruent words. To calculate the mean difference and its 95% confidence limits:"
   ]
  },
  {
   "cell_type": "code",
   "execution_count": 14,
   "metadata": {},
   "outputs": [
    {
     "data": {
      "text/plain": [
       "7.964791666666667"
      ]
     },
     "execution_count": 14,
     "metadata": {},
     "output_type": "execute_result"
    }
   ],
   "source": [
    "df.difference.mean()"
   ]
  },
  {
   "cell_type": "code",
   "execution_count": 15,
   "metadata": {},
   "outputs": [
    {
     "data": {
      "text/plain": [
       "(-1.5700938686583488, 17.49967720199168)"
      ]
     },
     "execution_count": 15,
     "metadata": {},
     "output_type": "execute_result"
    }
   ],
   "source": [
    "stats.norm.interval(0.95, loc=df.difference.mean(), scale=df.difference.std()) #95% CI\n"
   ]
  },
  {
   "cell_type": "markdown",
   "metadata": {},
   "source": [
    "The mean response time is 8.00s longer with incongruent word, with CI -1.5 to 17.5. This 95% CI interval is very large.\n",
    "\n",
    "Do these results match my expectations? Given the large CI of the difference, the very significant overlap seen in the boxplot with congruent and incongruent words, and the presence of outliers, it is somewhat surprising that we obtain such low p-values in the t-tests performed. \n",
    "\n",
    "However this goes the show the power of using matched data, in which the same individuals are used to compare two conditions. Even though there will be a multitide of differences between individuals affecting their response time (their tiredness or emotional state on the day, their reading speed, their thoroughness in following the experimental instructions, etc etc), the experiment focuses on a single effect, the difference in response time. Thus, while the variance in the response times is quite large, as visualised in the box plot, we can say with confidence that incongruency increases it.\n",
    "\n",
    "In addition, the large variation in response times is due to the precise way the experiment is conducted. The time measured is the sum of the response times for a large number of words displayed, rather than the response time for a single word - possibly amplifying the effect. The 2/4 shortest response time differences - shorter than would be expected from a normal distribution - could be the result of participants who misunderstood the instructions and are simply reading the word rather than determining the colour. Similarly the 2 outliers with unexpectedly larger response time differences could be in some way different. For example,\n",
    "they may be red-green colour-blind (as around 10% of men are) and struggle much more with distinguishing red and green words. From the description of the data set it is not clear if there are experimental controls to deal with such issues."
   ]
  },
  {
   "cell_type": "markdown",
   "metadata": {},
   "source": [
    "> (6) Optional: What do you think is responsible for the effects observed? Can you think of an alternative or similar task that would result in a similar effect? Some research about the problem will be helpful for thinking about these two questions!"
   ]
  },
  {
   "cell_type": "markdown",
   "metadata": {},
   "source": [
    "**--Answer--**\n",
    "\n",
    "According to the Wikipedia article on the Stroop effect, there are several theories. https://en.wikipedia.org/wiki/Stroop_effect\n",
    "One theory (Processing speed) posits that word processing is significantly faster than color processing, while another (Selective attention) holds that color recognition requires more attention than word recognition.\n",
    "\n",
    "The Automaticity theory appears the most plausible to me. Due to habitual reading, the brain automatically understands the meaning of words - but color recognition is not an automatic process since it is much less a part of daily life.\n",
    "\n",
    "An alternative experiment could consist of, again, asking participants to name the colour of displayed word, but this time, the first half and the second half of a word would be different colours. One of those colours would be incongruent (randomly either the first or second). The same words would be displayed twice, the first time the participants would need to determine the first half, the second time the second half - perhaps by typing the first letter of the colour. In addition to words for a colour, other words could be used, which would be 'neutral' rather than incongruent, and function as a control to determine how long it takes a participant to determine the colour of printed letters. Since in this experiment the same sequence of words would be displayed twice, a difference in response time could be determined for each word, and the effect of e.g. long vs short words would be eliminated, also the effect of red-green colour blindness may become discernable. "
   ]
  },
  {
   "cell_type": "markdown",
   "metadata": {},
   "source": [
    "## References\n",
    "List of sources used for this project (links are also included above):\n",
    "1.  Assumptions of paired t-test: (from https://pythonfordatascience.org/paired-samples-t-test-python/)\n",
    "* Using a trimmed dataset for a paired t-test: see https://stats.stackexchange.com/a/21210\n",
    "* The wilcoxon test #https://pythonfordatascience.org/wilcoxon-sign-ranked-test-python/\n",
    "* Stroop effect: https://en.wikipedia.org/wiki/Stroop_effect \n",
    "* https://faculty.washington.edu/chudler/words.html"
   ]
  }
 ],
 "metadata": {
  "kernelspec": {
   "display_name": "Python 3",
   "language": "python",
   "name": "python3"
  },
  "language_info": {
   "codemirror_mode": {
    "name": "ipython",
    "version": 3
   },
   "file_extension": ".py",
   "mimetype": "text/x-python",
   "name": "python",
   "nbconvert_exporter": "python",
   "pygments_lexer": "ipython3",
   "version": "3.6.7"
  },
  "toc": {
   "base_numbering": 1,
   "nav_menu": {},
   "number_sections": true,
   "sideBar": true,
   "skip_h1_title": false,
   "title_cell": "Table of Contents",
   "title_sidebar": "Contents",
   "toc_cell": false,
   "toc_position": {},
   "toc_section_display": true,
   "toc_window_display": true
  }
 },
 "nbformat": 4,
 "nbformat_minor": 2
}
